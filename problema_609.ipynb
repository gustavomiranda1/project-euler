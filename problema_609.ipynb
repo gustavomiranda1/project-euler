{
 "cells": [
  {
   "cell_type": "code",
   "execution_count": 25,
   "metadata": {},
   "outputs": [],
   "source": [
    "from math import sqrt\n",
    "\n",
    "def é_primo(n):\n",
    "    if n <= 1: return False\n",
    "    for i in range(2, int(sqrt(n)) + 1):\n",
    "        if n % i == 0: return False\n",
    "    return True\n",
    "\n",
    "def listar_primos_até(n):\n",
    "    lista_primos = []\n",
    "    for i in range (2, n):\n",
    "        if é_primo(i):\n",
    "            lista_primos.append(i)\n",
    "    return lista_primos\n",
    "\n",
    "lista_primos = listar_primos_até(10)\n"
   ]
  }
 ],
 "metadata": {
  "kernelspec": {
   "display_name": "Python 3",
   "language": "python",
   "name": "python3"
  },
  "language_info": {
   "codemirror_mode": {
    "name": "ipython",
    "version": 3
   },
   "file_extension": ".py",
   "mimetype": "text/x-python",
   "name": "python",
   "nbconvert_exporter": "python",
   "pygments_lexer": "ipython3",
   "version": "3.11.undefined"
  }
 },
 "nbformat": 4,
 "nbformat_minor": 2
}
