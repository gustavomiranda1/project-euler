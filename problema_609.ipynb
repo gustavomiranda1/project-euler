{
 "cells": [
  {
   "cell_type": "code",
   "execution_count": 24,
   "metadata": {},
   "outputs": [
    {
     "name": "stdout",
     "output_type": "stream",
     "text": [
      "[[10, 4, 2, 1], [4, 2, 1], [2, 1]]\n"
     ]
    }
   ],
   "source": [
    "from math import sqrt\n",
    "\n",
    "def é_primo(n):\n",
    "    if n <= 1: return False\n",
    "    for i in range(2, int(sqrt(n)) + 1):\n",
    "        if n % i == 0: return False\n",
    "    return True\n",
    "\n",
    "def listar_primos_até(n):\n",
    "    lista_primos = []\n",
    "    for i in range (2, n + 1):\n",
    "        if é_primo(i):\n",
    "            lista_primos.append(i)\n",
    "    return lista_primos\n",
    "\n",
    "def funcao_pi(n):\n",
    "    return len(listar_primos_até(n))\n",
    "\n",
    "def gerar_sequencias_u(n):\n",
    "    sequencias = []\n",
    "    k = n\n",
    "    while funcao_pi(k) >= 1:\n",
    "        nova_sequencia = [k]\n",
    "        j = k\n",
    "        while j > 1:\n",
    "            nova_sequencia.append(funcao_pi(j))\n",
    "            j = funcao_pi(j)\n",
    "        sequencias.append(nova_sequencia)\n",
    "        k = funcao_pi(k)\n",
    "    return sequencias\n",
    "\n",
    "n = 10\n",
    "\n",
    "print(gerar_sequencias_u(n))\n"
   ]
  }
 ],
 "metadata": {
  "kernelspec": {
   "display_name": "Python 3",
   "language": "python",
   "name": "python3"
  },
  "language_info": {
   "codemirror_mode": {
    "name": "ipython",
    "version": 3
   },
   "file_extension": ".py",
   "mimetype": "text/x-python",
   "name": "python",
   "nbconvert_exporter": "python",
   "pygments_lexer": "ipython3",
   "version": "3.11.9"
  }
 },
 "nbformat": 4,
 "nbformat_minor": 2
}
