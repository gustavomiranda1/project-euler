{
 "cells": [
  {
   "cell_type": "code",
   "execution_count": 79,
   "metadata": {},
   "outputs": [
    {
     "name": "stdout",
     "output_type": "stream",
     "text": [
      "[[10, 4, 2, 1], [10, 4, 2], [10, 4]]\n"
     ]
    }
   ],
   "source": [
    "from math import sqrt\n",
    "\n",
    "def é_primo(n):\n",
    "    if n <= 1: return False\n",
    "\n",
    "    for i in range(2, int(sqrt(n)) + 1):\n",
    "        if n % i == 0: return False\n",
    "\n",
    "    return True\n",
    "\n",
    "def listar_primos_até(n):\n",
    "    lista_primos = []\n",
    "\n",
    "    for i in range (2, n + 1):\n",
    "        if é_primo(i):\n",
    "            lista_primos.append(i)\n",
    "\n",
    "    return lista_primos\n",
    "\n",
    "def funcao_pi(n):\n",
    "    return len(listar_primos_até(n))\n",
    "\n",
    "def gerar_sequencias_u(n):\n",
    "    todas_sequencias = []\n",
    "    k = n\n",
    "    sequencia_maxima = [k]\n",
    "\n",
    "    while k > 1:\n",
    "        sequencia_maxima.append(funcao_pi(k))\n",
    "        k = funcao_pi(k)\n",
    "\n",
    "    while len(sequencia_maxima) > 1:\n",
    "        sequencia_nova = sequencia_maxima.copy()\n",
    "        todas_sequencias.append(sequencia_nova)\n",
    "        sequencia_maxima.pop()\n",
    "\n",
    "    return todas_sequencias\n",
    "\n",
    "def funcao_c(sequencia_u):\n",
    "    contagem = 0\n",
    "\n",
    "    for k in sequencia_u:\n",
    "        if not é_primo(k):\n",
    "            contagem += 1\n",
    "\n",
    "    return contagem\n",
    "    \n",
    "def funcao_p(n, k):\n",
    "    sequencias_u = gerar_sequencias_u(n)\n",
    "    contagem = 0\n",
    "\n",
    "    for sequencia in sequencias_u:\n",
    "        if funcao_c(sequencia) == k:\n",
    "            contagem += 1\n",
    "\n",
    "    return contagem\n",
    "\n",
    "def k_possiveis(n):\n",
    "    sequencias_u = gerar_sequencias_u(n)\n",
    "    lista_k_possiveis = set()\n",
    "\n",
    "    for sequencia in sequencias_u:\n",
    "        lista_k_possiveis.add(funcao_c(sequencia))\n",
    "    \n",
    "    return lista_k_possiveis\n",
    "\n",
    "print(gerar_sequencias_u(10))"
   ]
  }
 ],
 "metadata": {
  "kernelspec": {
   "display_name": "Python 3",
   "language": "python",
   "name": "python3"
  },
  "language_info": {
   "codemirror_mode": {
    "name": "ipython",
    "version": 3
   },
   "file_extension": ".py",
   "mimetype": "text/x-python",
   "name": "python",
   "nbconvert_exporter": "python",
   "pygments_lexer": "ipython3",
   "version": "3.11.9"
  }
 },
 "nbformat": 4,
 "nbformat_minor": 2
}
